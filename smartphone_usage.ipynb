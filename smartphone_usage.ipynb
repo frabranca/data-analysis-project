{
 "cells": [
  {
   "cell_type": "markdown",
   "id": "781daa5d-142f-4176-9157-3f10581d69c8",
   "metadata": {},
   "source": [
    "# Smartphone Usage Stats Analysis"
   ]
  },
  {
   "cell_type": "code",
   "execution_count": 42,
   "id": "085b8fad-babb-41c5-b186-a48c56d1fb5b",
   "metadata": {},
   "outputs": [
    {
     "data": {
      "text/html": [
       "<div>\n",
       "<style scoped>\n",
       "    .dataframe tbody tr th:only-of-type {\n",
       "        vertical-align: middle;\n",
       "    }\n",
       "\n",
       "    .dataframe tbody tr th {\n",
       "        vertical-align: top;\n",
       "    }\n",
       "\n",
       "    .dataframe thead th {\n",
       "        text-align: right;\n",
       "    }\n",
       "</style>\n",
       "<table border=\"1\" class=\"dataframe\">\n",
       "  <thead>\n",
       "    <tr style=\"text-align: right;\">\n",
       "      <th></th>\n",
       "      <th>User_ID</th>\n",
       "      <th>Age</th>\n",
       "      <th>Gender</th>\n",
       "      <th>Total_App_Usage_Hours</th>\n",
       "      <th>Daily_Screen_Time_Hours</th>\n",
       "      <th>Number_of_Apps_Used</th>\n",
       "      <th>Social_Media_Usage_Hours</th>\n",
       "      <th>Productivity_App_Usage_Hours</th>\n",
       "      <th>Gaming_App_Usage_Hours</th>\n",
       "      <th>Location</th>\n",
       "    </tr>\n",
       "  </thead>\n",
       "  <tbody>\n",
       "    <tr>\n",
       "      <th>0</th>\n",
       "      <td>1</td>\n",
       "      <td>56</td>\n",
       "      <td>Male</td>\n",
       "      <td>2.61</td>\n",
       "      <td>7.15</td>\n",
       "      <td>24</td>\n",
       "      <td>4.43</td>\n",
       "      <td>0.55</td>\n",
       "      <td>2.40</td>\n",
       "      <td>Los Angeles</td>\n",
       "    </tr>\n",
       "    <tr>\n",
       "      <th>1</th>\n",
       "      <td>2</td>\n",
       "      <td>46</td>\n",
       "      <td>Male</td>\n",
       "      <td>2.13</td>\n",
       "      <td>13.79</td>\n",
       "      <td>18</td>\n",
       "      <td>4.67</td>\n",
       "      <td>4.42</td>\n",
       "      <td>2.43</td>\n",
       "      <td>Chicago</td>\n",
       "    </tr>\n",
       "    <tr>\n",
       "      <th>2</th>\n",
       "      <td>3</td>\n",
       "      <td>32</td>\n",
       "      <td>Female</td>\n",
       "      <td>7.28</td>\n",
       "      <td>4.50</td>\n",
       "      <td>11</td>\n",
       "      <td>4.58</td>\n",
       "      <td>1.71</td>\n",
       "      <td>2.83</td>\n",
       "      <td>Houston</td>\n",
       "    </tr>\n",
       "    <tr>\n",
       "      <th>3</th>\n",
       "      <td>4</td>\n",
       "      <td>25</td>\n",
       "      <td>Female</td>\n",
       "      <td>1.20</td>\n",
       "      <td>6.29</td>\n",
       "      <td>21</td>\n",
       "      <td>3.18</td>\n",
       "      <td>3.42</td>\n",
       "      <td>4.58</td>\n",
       "      <td>Phoenix</td>\n",
       "    </tr>\n",
       "    <tr>\n",
       "      <th>4</th>\n",
       "      <td>5</td>\n",
       "      <td>38</td>\n",
       "      <td>Male</td>\n",
       "      <td>6.31</td>\n",
       "      <td>12.59</td>\n",
       "      <td>14</td>\n",
       "      <td>3.15</td>\n",
       "      <td>0.13</td>\n",
       "      <td>4.00</td>\n",
       "      <td>New York</td>\n",
       "    </tr>\n",
       "  </tbody>\n",
       "</table>\n",
       "</div>"
      ],
      "text/plain": [
       "   User_ID  Age  Gender  Total_App_Usage_Hours  Daily_Screen_Time_Hours  \\\n",
       "0        1   56    Male                   2.61                     7.15   \n",
       "1        2   46    Male                   2.13                    13.79   \n",
       "2        3   32  Female                   7.28                     4.50   \n",
       "3        4   25  Female                   1.20                     6.29   \n",
       "4        5   38    Male                   6.31                    12.59   \n",
       "\n",
       "   Number_of_Apps_Used  Social_Media_Usage_Hours  \\\n",
       "0                   24                      4.43   \n",
       "1                   18                      4.67   \n",
       "2                   11                      4.58   \n",
       "3                   21                      3.18   \n",
       "4                   14                      3.15   \n",
       "\n",
       "   Productivity_App_Usage_Hours  Gaming_App_Usage_Hours     Location  \n",
       "0                          0.55                    2.40  Los Angeles  \n",
       "1                          4.42                    2.43      Chicago  \n",
       "2                          1.71                    2.83      Houston  \n",
       "3                          3.42                    4.58      Phoenix  \n",
       "4                          0.13                    4.00     New York  "
      ]
     },
     "execution_count": 42,
     "metadata": {},
     "output_type": "execute_result"
    }
   ],
   "source": [
    "import numpy as np\n",
    "import pandas as pd\n",
    "import seaborn as sns\n",
    "import matplotlib.pyplot as plt\n",
    "\n",
    "df = pd.read_csv('data/mobile_usage_behavioral_analysis.csv')\n",
    "df.head()"
   ]
  },
  {
   "cell_type": "code",
   "execution_count": 43,
   "id": "5939157b-0e50-42ae-bace-ec80087ef75d",
   "metadata": {},
   "outputs": [
    {
     "data": {
      "image/png": "[encoded data removed]",
      "text/plain": [
       "<Figure size 1000x500 with 2 Axes>"
      ]
     },
     "metadata": {},
     "output_type": "display_data"
    }
   ],
   "source": [
    "sns.catplot(data = df, \n",
    "            x = \"Location\",\n",
    "            y = \"Daily_Screen_Time_Hours\",\n",
    "            kind = \"box\",\n",
    "            col = \"Gender\")\n",
    "plt.show()"
   ]
  },
  {
   "cell_type": "code",
   "execution_count": null,
   "id": "8fb07de9-1c70-4f56-8f81-4352c35df165",
   "metadata": {},
   "outputs": [],
   "source": []
  }
 ],
 "metadata": {
  "kernelspec": {
   "display_name": "Python 3 (ipykernel)",
   "language": "python",
   "name": "python3"
  },
  "language_info": {
   "codemirror_mode": {
    "name": "ipython",
    "version": 3
   },
   "file_extension": ".py",
   "mimetype": "text/x-python",
   "name": "python",
   "nbconvert_exporter": "python",
   "pygments_lexer": "ipython3",
   "version": "3.8.10"
  }
 },
 "nbformat": 4,
 "nbformat_minor": 5
}
